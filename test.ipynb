{
 "cells": [
  {
   "cell_type": "code",
   "execution_count": 10,
   "outputs": [
    {
     "name": "stdout",
     "output_type": "stream",
     "text": [
      "['feature_vedic_mitral_swiz' 'feature_introvert_symphysial_assegai'\n",
      " 'feature_casemated_ibsenian_grantee' 'feature_built_reincarnate_sherbet'\n",
      " 'feature_axillary_reluctant_shorty'\n",
      " 'feature_untrimmed_monaxial_accompanist'\n",
      " 'feature_doggish_whacking_headscarf'\n",
      " 'feature_congenital_conched_perithecium'\n",
      " 'feature_questionable_diplex_caesarist'\n",
      " 'feature_revitalizing_dashing_photomultiplier'\n",
      " 'feature_assenting_darn_arthropod'\n",
      " 'feature_voltairean_dyslogistic_epagoge' 'feature_log_unregenerate_babel'\n",
      " 'feature_agile_unrespited_gaucho'\n",
      " 'feature_travelled_semipermeable_perruquier'\n",
      " 'feature_reminiscent_unpained_ukulele' 'feature_unknown_reusable_cabbage'\n",
      " 'feature_invalid_extortionary_titillation'\n",
      " 'feature_jiggish_tritheist_probity' 'feature_fierier_goofier_follicle'\n",
      " 'feature_unvaried_social_bangkok'\n",
      " 'feature_fissirostral_multifoliate_chillon'\n",
      " 'feature_beery_somatologic_elimination'\n",
      " 'feature_petalled_backmost_crimplene'\n",
      " 'feature_apogamic_obeisant_pondicherry'\n",
      " 'feature_geographical_ecstatic_geta'\n",
      " 'feature_gymnastic_neap_thoracostomy'\n",
      " 'feature_healthful_mitigated_magnesium'\n",
      " 'feature_few_lagoonal_alcyonarian'\n",
      " 'feature_midnightly_falser_replacement'\n",
      " 'feature_waxiest_orthogonal_hiroshima' 'feature_raglan_gouty_twiddler'\n",
      " 'feature_aloetic_presented_scarer' 'feature_wispy_reverberating_fyrd'\n",
      " 'feature_splitting_sexagesimal_teutonisation'\n",
      " 'feature_polybasic_unbreathed_magdeburg'\n",
      " 'feature_dreary_penal_acroterium' 'feature_haziest_lifelike_horseback'\n",
      " 'feature_prevailing_nubile_hearst' 'feature_aberdeen_tangled_providence'\n",
      " 'feature_slack_calefacient_tableau'\n",
      " 'feature_grandmotherly_circumnavigable_homonymity'\n",
      " 'feature_trochaic_metonymic_dichogamy' 'feature_unblamed_mammoth_commie'\n",
      " 'feature_kenotic_hispanic_yulan' 'feature_cachectical_metaphysic_patency'\n",
      " 'feature_gory_ratite_santir' 'feature_jammed_morphotic_destruction'\n",
      " 'feature_earthlier_parian_pistachio' 'feature_gay_deceased_reen'\n",
      " 'feature_canalicular_peeling_lilienthal'\n",
      " 'feature_antichristian_slangiest_idyllist'\n",
      " 'feature_flintier_enslaved_borsch' 'feature_exorbitant_myeloid_crinkle'\n",
      " 'feature_moralistic_heartier_typhoid'\n",
      " 'feature_puberulent_nondescript_laparoscope'\n",
      " 'feature_dentilingual_removed_osmometer'\n",
      " 'feature_interrogatory_isohyetal_atacamite'\n",
      " 'feature_invalid_chromatographic_cornishman'\n",
      " 'feature_encompassing_skeptical_salience'\n",
      " 'feature_gossamer_placable_wycliffite' 'feature_flavourful_seismic_erica'\n",
      " 'feature_leisurable_dehortatory_pretoria'\n",
      " 'feature_uninclosed_handcrafted_springing'\n",
      " 'feature_indentured_communicant_tulipomania'\n",
      " 'feature_refreshed_untombed_skinhead'\n",
      " 'feature_sudsy_polymeric_posteriority'\n",
      " 'feature_headhunting_unsatisfied_phenomena'\n",
      " 'feature_buxom_curtained_sienna'\n",
      " 'feature_recidivism_petitory_methyltestosterone'\n",
      " 'feature_irresponsive_compositive_ramson'\n",
      " 'feature_amygdaloidal_intersectional_canonry'\n",
      " 'feature_uncharged_unovercome_smolder'\n",
      " 'feature_ambisexual_boiled_blunderer'\n",
      " 'feature_undivorced_unsatisfying_praetorium'\n",
      " 'feature_reclinate_cruciform_lilo' 'feature_coveted_finniest_lipogram'\n",
      " 'feature_twilled_eliminable_orthoepy'\n",
      " 'feature_hierologic_assault_candida' 'feature_cambial_bigoted_bacterioid'\n",
      " 'feature_attributable_shagged_nourishment'\n",
      " 'feature_pedal_dissident_thummim'\n",
      " 'feature_submediant_serbonian_rangefinder' 'feature_unlike_guelfic_sculp'\n",
      " 'feature_mandibulate_whining_localizer'\n",
      " 'feature_heliotropic_inane_papistry' 'feature_unlike_creeping_mammock'\n",
      " 'feature_resupine_pectic_marathonian'\n",
      " 'feature_systematic_nappiest_bruiser' 'feature_branched_dilatory_sunbelt'\n",
      " 'feature_biochemical_searching_sodalite'\n",
      " 'feature_unsealed_suffixal_babar' 'feature_unaired_operose_lactoprotein'\n",
      " 'feature_titillative_pledged_breccia'\n",
      " 'feature_multicostate_undescended_monoacid'\n",
      " 'feature_corticate_unuttered_langur'\n",
      " 'feature_pronominal_rampant_megaspore'\n",
      " 'feature_behaviorist_microbiological_farina'\n",
      " 'feature_lofty_acceptable_challenge' 'feature_coactive_prefatorial_lucy']\n"
     ]
    },
    {
     "name": "stderr",
     "output_type": "stream",
     "text": [
      "/Users/andrewjennings/PycharmProjects/pythonProject1/venv/tree_regression/lib/python3.8/site-packages/sklearn/base.py:324: UserWarning: Trying to unpickle estimator Ridge from version 1.0 when using version 1.0.1. This might lead to breaking code or invalid results. Use at your own risk. For more info please refer to:\n",
      "https://scikit-learn.org/stable/modules/model_persistence.html#security-maintainability-limitations\n",
      "  warnings.warn(\n"
     ]
    }
   ],
   "source": [
    "import s3fs\n",
    "import pickle\n",
    "from sklearn.linear_model import Ridge\n",
    "\n",
    "import pandas as pd\n",
    "\n",
    "import os\n",
    "\n",
    "AWSAccessKeyId = 'id'\n",
    "AWSSecretKey = 'secret'\n",
    "\n",
    "# generated from os in saturn\n",
    "\n",
    "bucket = 'data-newyork-numerai-plus'\n",
    "\n",
    "fs = s3fs.S3FileSystem(key=AWSAccessKeyId,secret=AWSSecretKey)\n",
    "\n",
    "fs.ls(bucket)\n",
    "\n",
    "model = pickle.load(fs.open('{}/{}'.format(bucket, \"model_target.pkl\")))\n",
    "print(model.feature_names_in_)\n"
   ],
   "metadata": {
    "collapsed": false,
    "pycharm": {
     "name": "#%%\n"
    }
   }
  }
 ],
 "metadata": {
  "kernelspec": {
   "display_name": "Python 3",
   "language": "python",
   "name": "python3"
  },
  "language_info": {
   "codemirror_mode": {
    "name": "ipython",
    "version": 2
   },
   "file_extension": ".py",
   "mimetype": "text/x-python",
   "name": "python",
   "nbconvert_exporter": "python",
   "pygments_lexer": "ipython2",
   "version": "2.7.6"
  }
 },
 "nbformat": 4,
 "nbformat_minor": 0
}